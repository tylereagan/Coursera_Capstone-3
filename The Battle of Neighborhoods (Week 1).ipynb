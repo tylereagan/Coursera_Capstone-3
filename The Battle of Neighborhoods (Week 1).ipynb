{
    "cells": [
        {
            "cell_type": "markdown",
            "metadata": {
                "collapsed": true
            },
            "source": "# Opening a Venezuelan Restaurant in New York City"
        },
        {
            "cell_type": "markdown",
            "metadata": {},
            "source": "Capstone Project - The Battle of Neighborhoods (Week 1)\n\nBy:\nAlejandro Merino"
        },
        {
            "cell_type": "markdown",
            "metadata": {},
            "source": "## Description"
        },
        {
            "cell_type": "markdown",
            "metadata": {},
            "source": "Due to the economical, political and social issues Venezuela is currently facing; New York has seen an increased influx of Venezuelans during the last decade. This results in an increased demand for Venezuelan restaurants. The purpose of this project is to explore the best locations in New York City for Venezuelan Restaurants. Potentially helping future venezuelan restaurant owners experience great success and consistent profit. \n\nBecause opening a restaurnt requires a tremendous amount of research and a deep look into a wide variety of variables; our main focus will be the location itself. We will answer one particular questions, and that would be Where should the future restaurant owner open its Venezuelan restaurant?"
        },
        {
            "cell_type": "markdown",
            "metadata": {},
            "source": "## Data Description"
        },
        {
            "cell_type": "markdown",
            "metadata": {},
            "source": "### Data Needed"
        },
        {
            "cell_type": "markdown",
            "metadata": {},
            "source": "To solve this question, we would need the following information\n<ul>\n<li>New York City Data containing the neighborhoods and boroughs\n<li>Coordinates (Latitude and Longitude) of these neighborhoods. In order to plot the data into a map and obtain venue data\n<li>Obtain venue data from Foursquare API related to restaurants in order to determine best locations for a V. \n"
        },
        {
            "cell_type": "code",
            "execution_count": null,
            "metadata": {},
            "outputs": [],
            "source": ""
        }
    ],
    "metadata": {
        "kernelspec": {
            "display_name": "Python 3.7",
            "language": "python",
            "name": "python3"
        },
        "language_info": {
            "codemirror_mode": {
                "name": "ipython",
                "version": 3
            },
            "file_extension": ".py",
            "mimetype": "text/x-python",
            "name": "python",
            "nbconvert_exporter": "python",
            "pygments_lexer": "ipython3",
            "version": "3.7.10"
        }
    },
    "nbformat": 4,
    "nbformat_minor": 1
}